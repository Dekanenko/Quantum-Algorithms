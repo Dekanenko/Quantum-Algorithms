{
 "cells": [
  {
   "cell_type": "code",
   "execution_count": null,
   "id": "2bed5d00-c254-4eb2-a475-f921cd25c290",
   "metadata": {},
   "outputs": [],
   "source": [
    "import pennylane as qml\n",
    "import pennylane.numpy as np"
   ]
  },
  {
   "cell_type": "code",
   "execution_count": null,
   "id": "bc15422c-fe52-4c32-9f4a-48a2a41b84b4",
   "metadata": {},
   "outputs": [],
   "source": [
    "\n",
    "def calculate_pa(c, a_arr):\n",
    "  out = []\n",
    "  for a in a_arr:\n",
    "    Ua = np.array([[a, np.sqrt(1-a**2)], [np.sqrt(1-a**2), -a]])\n",
    "\n",
    "    S = np.array([[np.exp(c[0]*1j), 0], [0, np.exp(-c[0]*1j)]])\n",
    "    for i in range(1, len(c)):\n",
    "      tmp_s = np.array([[np.exp(c[i]*1j), 0], [0, np.exp(-c[i]*1j)]])\n",
    "      tmp = np.matmul(Ua, tmp_s)\n",
    "      S = np.matmul(S, tmp)\n",
    "\n",
    "    out.append(S[0][0])\n",
    "\n",
    "  return out\n",
    "\n",
    "def cost_f(a, params, y):\n",
    "  out = (a**3)*params[0] + a*params[1]\n",
    "  return (out - y)**2\n",
    "\n",
    "\n",
    "def coefficients(angles):\n",
    "\n",
    "# prepare data for training\n",
    "    a_arr = np.arange(-1, 1+0.1, 0.1, requires_grad=False)\n",
    "    pa = calculate_pa(angles, a_arr)\n",
    "    pa_real = []\n",
    "    pa_imag = []\n",
    "\n",
    "    for elem in pa:\n",
    "      pa_real.append(elem.real)\n",
    "      pa_imag.append(elem.imag)\n",
    "\n",
    "\n",
    "    pa_real = np.array(pa_real, requires_grad=False)\n",
    "    pa_imag = np.array(pa_imag, requires_grad=False)\n",
    "\n",
    "# train real part\n",
    "    opt = qml.GradientDescentOptimizer(stepsize=0.1)\n",
    "    real_part = np.array([0.0, 0.0], requires_grad=True)\n",
    "\n",
    "    epochs = 200\n",
    "\n",
    "    for epoch in range(epochs):\n",
    "      for i in range(len(a_arr)):\n",
    "        real_part = opt.step(cost_f, a_arr[i], real_part, pa_real[i])[1]\n",
    "\n",
    "# train imaginary part\n",
    "    opt = qml.GradientDescentOptimizer(stepsize=0.1)\n",
    "    imag_part = np.array([0.0, 0.0], requires_grad=True)\n",
    "\n",
    "    epochs = 200\n",
    "\n",
    "    for epoch in range(epochs):\n",
    "      for i in range(len(a_arr)):\n",
    "        imag_part = opt.step(cost_f, a_arr[i], imag_part, pa_imag[i])[1]\n",
    "\n",
    "    alpha_r = float(real_part[0])\n",
    "    beta_r = float(real_part[1])\n",
    "    alpha_im = float(imag_part[0])\n",
    "    beta_im = float(imag_part[1])\n",
    "\n",
    "    return [alpha_r + alpha_im*1j, beta_r + beta_im*1j]"
   ]
  },
  {
   "cell_type": "code",
   "execution_count": null,
   "id": "51adf9e7-49e4-4906-8826-54fa2d902b72",
   "metadata": {},
   "outputs": [],
   "source": [
    "angles = [0.5, 0.8, 1.0, 1.0]\n",
    "coefficients(angles)"
   ]
  }
 ],
 "metadata": {
  "kernelspec": {
   "display_name": "Python 3 (ipykernel)",
   "language": "python",
   "name": "python3"
  },
  "language_info": {
   "codemirror_mode": {
    "name": "ipython",
    "version": 3
   },
   "file_extension": ".py",
   "mimetype": "text/x-python",
   "name": "python",
   "nbconvert_exporter": "python",
   "pygments_lexer": "ipython3",
   "version": "3.9.16"
  }
 },
 "nbformat": 4,
 "nbformat_minor": 5
}
