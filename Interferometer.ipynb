{
 "cells": [
  {
   "cell_type": "code",
   "execution_count": null,
   "id": "5d6899f0-5c7a-4847-b5a6-6fa9dc6d8ff5",
   "metadata": {},
   "outputs": [],
   "source": [
    "import pennylane as qml\n",
    "import pennylane.numpy as np\n"
   ]
  },
  {
   "cell_type": "code",
   "execution_count": null,
   "id": "2de86b41-0c54-4e85-be87-ab0e88bd1f73",
   "metadata": {},
   "outputs": [],
   "source": [
    "def beam_splitter(r):\n",
    "    t = np.sqrt(1 - r*r)\n",
    "    return np.array([[r, t], [t, -r]])\n",
    "\n",
    "\n",
    "dev = qml.device('default.qubit')\n",
    "\n",
    "@qml.qnode(dev)\n",
    "def mz_interferometer(r):\n",
    "    U = beam_splitter(r)\n",
    "    qml.QubitUnitary(U, wires=[0])\n",
    "\n",
    "    m_0 = qml.measure(0)\n",
    "\n",
    "    qml.cond(qml.measure(0), qml.QubitUnitary)(U, wires=[0])\n",
    "\n",
    "    return qml.probs([0])\n"
   ]
  }
 ],
 "metadata": {
  "kernelspec": {
   "display_name": "Python 3 (ipykernel)",
   "language": "python",
   "name": "python3"
  },
  "language_info": {
   "codemirror_mode": {
    "name": "ipython",
    "version": 3
   },
   "file_extension": ".py",
   "mimetype": "text/x-python",
   "name": "python",
   "nbconvert_exporter": "python",
   "pygments_lexer": "ipython3",
   "version": "3.9.16"
  }
 },
 "nbformat": 4,
 "nbformat_minor": 5
}
