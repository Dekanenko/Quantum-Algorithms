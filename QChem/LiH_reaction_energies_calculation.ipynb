{
 "cells": [
  {
   "cell_type": "code",
   "execution_count": null,
   "id": "114acc90-a795-4e70-9b6e-dd0ca104827d",
   "metadata": {},
   "outputs": [],
   "source": [
    "import pennylane as qml\n",
    "import pennylane.numpy as np"
   ]
  },
  {
   "cell_type": "code",
   "execution_count": null,
   "id": "d96e1b7d-4493-4d73-a040-95748c65eb2f",
   "metadata": {},
   "outputs": [],
   "source": [
    "\n",
    "def potential_energy_surface(symbols, bond_lengths):\n",
    "    hf_energies = []\n",
    "    _, params = qml.qchem.mol_basis_data('sto-3g', symbols)\n",
    "\n",
    "    alpha = []\n",
    "\n",
    "    for param in params:\n",
    "      alpha.append(param[1])\n",
    "\n",
    "    alpha = np.array(alpha, requires_grad = True)\n",
    "\n",
    "    args = [alpha]\n",
    "\n",
    "    for bond_length in bond_lengths:\n",
    "      coordinates = np.array([[0.0, 0.0, 0.0], [0.0, 0.0, bond_length]], requires_grad = False)\n",
    "      mol = qml.qchem.Molecule(symbols, coordinates, alpha=alpha)\n",
    "      hf_energies.append(qml.qchem.hf_energy(mol)(*args))\n",
    "\n",
    "    return np.array(hf_energies)\n",
    "\n",
    "\n",
    "def ground_energy(hf_energies):\n",
    "    ind = np.argmin(hf_energies)\n",
    "    return hf_energies[ind]\n",
    "\n",
    "def reaction():\n",
    "    molecules = {\n",
    "        \"H2\":\n",
    "            {\"symbols\": [\"H\", \"H\"], \"E0\": 0, \"E_dissociation\": 0, \"bond lengths\": np.arange(0.5, 9.3, 0.3)},\n",
    "        \"Li2\":\n",
    "            {\"symbols\": [\"Li\", \"Li\"], \"E0\": 0, \"E_dissociation\": 0, \"bond lengths\": np.arange(3.5, 8.3, 0.3)},\n",
    "        \"LiH\":\n",
    "            {\"symbols\": [\"Li\", \"H\"], \"E0\": 0, \"E_dissociation\": 0, \"bond lengths\": np.arange(2.0, 6.6, 0.3)}\n",
    "    }\n",
    "\n",
    "\n",
    "    for molecule in molecules.keys():\n",
    "      hf_energies = potential_energy_surface(molecules[molecule][\"symbols\"], molecules[molecule][\"bond lengths\"])\n",
    "      molecules[molecule][\"E0\"] = ground_energy(hf_energies)\n",
    "      molecules[molecule][\"E_dissociation\"] = np.abs(molecules[molecule][\"E0\"] - hf_energies[-1])\n",
    "\n",
    "    E_reactants = molecules[\"H2\"][\"E0\"] + molecules[\"Li2\"][\"E0\"]# the energy of the reactants\n",
    "    E_activation = E_reactants + molecules[\"H2\"][\"E_dissociation\"] + molecules[\"Li2\"][\"E_dissociation\"]# the activation energy\n",
    "    E_products = 2*molecules[\"LiH\"][\"E0\"]# e, m = reaction()the energy of the products\n",
    "\n",
    "    return np.array([E_reactants, E_activation, E_products])"
   ]
  },
  {
   "cell_type": "code",
   "execution_count": null,
   "id": "063da423-3713-4280-9c42-674879f8abfc",
   "metadata": {},
   "outputs": [],
   "source": [
    "e, m = reaction()"
   ]
  }
 ],
 "metadata": {
  "kernelspec": {
   "display_name": "Python 3 (ipykernel)",
   "language": "python",
   "name": "python3"
  },
  "language_info": {
   "codemirror_mode": {
    "name": "ipython",
    "version": 3
   },
   "file_extension": ".py",
   "mimetype": "text/x-python",
   "name": "python",
   "nbconvert_exporter": "python",
   "pygments_lexer": "ipython3",
   "version": "3.9.16"
  }
 },
 "nbformat": 4,
 "nbformat_minor": 5
}
