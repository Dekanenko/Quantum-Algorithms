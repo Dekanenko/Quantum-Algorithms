{
 "cells": [
  {
   "cell_type": "code",
   "execution_count": null,
   "id": "ec69d2b4-45c5-49f1-abb4-03336b192ec8",
   "metadata": {},
   "outputs": [],
   "source": [
    "import pennylane as qml\n",
    "import pennylane.numpy as np"
   ]
  },
  {
   "cell_type": "code",
   "execution_count": null,
   "id": "62a915ea-475c-48c5-b369-235636fc6730",
   "metadata": {},
   "outputs": [],
   "source": [
    "symbols = [\"H\", \"H\", \"H\"]\n",
    "\n",
    "def h3_ground_energy(bond_length):\n",
    "    c1 = [0.0, 0.0, 0.0]\n",
    "    c2 = [bond_length, 0.0, 0.0]\n",
    "    c3 = [bond_length/2, np.sqrt(bond_length*bond_length - (bond_length*bond_length)/4), 0.0]\n",
    "    coordinates = np.array([c1, c2, c3])\n",
    "\n",
    "    hamiltonian, qubits = qml.qchem.molecular_hamiltonian(symbols, coordinates, charge=1)\n",
    "\n",
    "    hf = qml.qchem.hf_state(electrons=2, orbitals=qubits)\n",
    "\n",
    "    num_wires = qubits\n",
    "    dev = qml.device(\"default.qubit\", wires=num_wires)\n",
    "\n",
    "    def ansatz(params):\n",
    "      qml.BasisState(hf, wires=range(num_wires))\n",
    "      qml.DoubleExcitation(params[0], wires=[0, 1, 2, 3])\n",
    "      qml.DoubleExcitation(params[1], wires=[0, 1, 4, 5])\n",
    "\n",
    "    @qml.qnode(dev)\n",
    "    def cost_f(params):\n",
    "      ansatz(params)\n",
    "      return qml.expval(hamiltonian)\n",
    "\n",
    "\n",
    "    opt = qml.GradientDescentOptimizer(stepsize=0.4)\n",
    "    theta = np.array([0.0, 0.0], requires_grad=True)\n",
    "\n",
    "    energy = [cost_f(theta)]\n",
    "    angle = [theta]\n",
    "    iterations = 20\n",
    "\n",
    "    for n in range(iterations):\n",
    "      theta, prev_energy = opt.step_and_cost(cost_f, theta)\n",
    "\n",
    "      energy.append(cost_f(theta))\n",
    "      angle.append(theta)\n",
    "\n",
    "      if n%2 == 0:\n",
    "        print(f\"Step : {n}, E : {energy[-1]}, A : {angle[-1]}\")\n",
    "\n",
    "\n",
    "    return energy[-1]\n"
   ]
  },
  {
   "cell_type": "code",
   "execution_count": null,
   "id": "a2ede637-9a11-439a-80aa-b0392872ec01",
   "metadata": {},
   "outputs": [],
   "source": [
    "bond_length = 0.8\n",
    "h3_ground_energy(bond_length)"
   ]
  }
 ],
 "metadata": {
  "kernelspec": {
   "display_name": "Python 3 (ipykernel)",
   "language": "python",
   "name": "python3"
  },
  "language_info": {
   "codemirror_mode": {
    "name": "ipython",
    "version": 3
   },
   "file_extension": ".py",
   "mimetype": "text/x-python",
   "name": "python",
   "nbconvert_exporter": "python",
   "pygments_lexer": "ipython3",
   "version": "3.9.16"
  }
 },
 "nbformat": 4,
 "nbformat_minor": 5
}
