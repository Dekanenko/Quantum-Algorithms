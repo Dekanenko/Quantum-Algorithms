{
 "cells": [
  {
   "cell_type": "code",
   "execution_count": null,
   "id": "1369dda6-da43-4a8b-abb7-804970f2a61f",
   "metadata": {},
   "outputs": [],
   "source": [
    "import pennylane as qml\n",
    "import pennylane.numpy as np"
   ]
  },
  {
   "cell_type": "code",
   "execution_count": null,
   "id": "d9127495-04f1-48dc-98f2-67bd020fdf9b",
   "metadata": {},
   "outputs": [],
   "source": [
    "\n",
    "def GHZ_circuit(noise_param, n_qubits):\n",
    "    dev = qml.device(\"default.mixed\", wires=n_qubits)\n",
    "\n",
    "    @qml.qnode(dev)\n",
    "    def inner():\n",
    "        qml.RY(np.pi/2, 0)\n",
    "\n",
    "        for qubit in range(0, n_qubits-1):\n",
    "            qml.RY(np.pi/2, qubit+1)\n",
    "            qml.RX(np.pi, qubit+1)\n",
    "            qml.CZ([qubit, qubit+1])\n",
    "\n",
    "            qml.DepolarizingChannel(noise_param, wires=qubit+1)\n",
    "\n",
    "            qml.RY(np.pi/2, qubit+1)\n",
    "            qml.RX(np.pi, qubit+1)\n",
    "\n",
    "        return qml.density_matrix(range(n_qubits))\n",
    "\n",
    "    return inner()\n",
    "\n",
    "\n",
    "\n",
    "def GHZ_fidelity(noise_param, n_qubits):\n",
    "    dev = qml.device('default.mixed', wires=n_qubits)\n",
    "\n",
    "    GHZ_QNode = qml.QNode(GHZ_circuit,dev)\n",
    "\n",
    "    noisy_s = GHZ_circuit(noise_param, n_qubits)\n",
    "    ideal_s = GHZ_circuit(0, n_qubits)\n",
    "\n",
    "    return qml.math.fidelity(noisy_s, ideal_s)GHZ_fidelity(0.05, 3)"
   ]
  },
  {
   "cell_type": "code",
   "execution_count": null,
   "id": "fe2a9256-dce4-468d-bf82-81057cd5965c",
   "metadata": {},
   "outputs": [],
   "source": [
    "GHZ_fidelity(0.05, 3)"
   ]
  }
 ],
 "metadata": {
  "kernelspec": {
   "display_name": "Python 3 (ipykernel)",
   "language": "python",
   "name": "python3"
  },
  "language_info": {
   "codemirror_mode": {
    "name": "ipython",
    "version": 3
   },
   "file_extension": ".py",
   "mimetype": "text/x-python",
   "name": "python",
   "nbconvert_exporter": "python",
   "pygments_lexer": "ipython3",
   "version": "3.9.16"
  }
 },
 "nbformat": 4,
 "nbformat_minor": 5
}
